{
  "cells": [
    {
      "cell_type": "markdown",
      "metadata": {
        "id": "M-DGa20PaHnu"
      },
      "source": [
        "#Задача 1\n",
        "Написать функцию на вход которой подается строка, состоящая из латинских букв.\n",
        "Функция должна вернуть количество гласных букв (a, e, i, o, u) в этой строке. Написать тесты для кода"
      ]
    },
    {
      "cell_type": "code",
      "execution_count": 2,
      "metadata": {
        "id": "XvX8X_JJ6PCb"
      },
      "outputs": [
        {
          "name": "stdout",
          "output_type": "stream",
          "text": [
            "3\n"
          ]
        }
      ],
      "source": [
        "def numberOfVowels(str):\n",
        "    vowels = {'a', 'e', 'i', 'o', 'u', 'A', 'E', 'I', 'O', 'U'}\n",
        "    countOfVowels = 0\n",
        "\n",
        "    for symbol in str:\n",
        "        if symbol in vowels:\n",
        "            countOfVowels += 1\n",
        "\n",
        "    return countOfVowels\n",
        "\n",
        "assert numberOfVowels('cat') == 1\n",
        "assert numberOfVowels('Gelendzhik') == 3\n",
        "assert numberOfVowels('Apple') == 2\n",
        "assert numberOfVowels('aaaaaooot') == 8"
      ]
    },
    {
      "cell_type": "markdown",
      "metadata": {
        "id": "t2ClV_Y0bbr6"
      },
      "source": [
        "# Задача 2\n",
        "Написать функцию на вход, которой подается строка. Функция должна вернуть true, если\n",
        "каждый символ в строке встречается только 1 раз, иначе должна вернуть false. Написать тесты для кода"
      ]
    },
    {
      "cell_type": "code",
      "execution_count": 4,
      "metadata": {
        "id": "FppbECao6VIz"
      },
      "outputs": [
        {
          "name": "stdout",
          "output_type": "stream",
          "text": [
            "False\n"
          ]
        }
      ],
      "source": [
        "def noRepeatingLetters(str):\n",
        "    return len(set(str)) == len(str)\n",
        "\n",
        "assert noRepeatingLetters('dog') == True\n",
        "assert noRepeatingLetters('sofa') == True\n",
        "assert noRepeatingLetters('Alla') == False\n",
        "assert noRepeatingLetters('lol') == False"
      ]
    },
    {
      "cell_type": "markdown",
      "metadata": {
        "id": "udRiIK1cdt6E"
      },
      "source": [
        "# Задача 3\n",
        "Написать функцию, которая принимает положительное число и возвращает количество\n",
        "бит равных 1 в этом числе. Написать тесты для кода"
      ]
    },
    {
      "cell_type": "code",
      "execution_count": 19,
      "metadata": {
        "id": "6tkfDJRz6dp_"
      },
      "outputs": [],
      "source": [
        "def countBits(n):\n",
        "    count = 0\n",
        "    while n:\n",
        "        if n % 2 == 1:\n",
        "            count += 1\n",
        "        n //= 2\n",
        "    return count\n",
        "\n",
        "assert countBits(21) == 3\n",
        "assert countBits(222) == 6\n",
        "assert countBits(60) == 4\n",
        "assert countBits(568) == 4"
      ]
    },
    {
      "cell_type": "markdown",
      "metadata": {
        "id": "26dDUz-Ae17N"
      },
      "source": [
        "# Задача 4\n",
        "Написать функцию, которая принимает положительное число. Функция должна вернуть то,\n",
        "сколько раз необходимо перемножать цифры числа или результат перемножения, чтобы\n",
        "получилось число состоящее из одной цифры.\n",
        "Например, для входного числа:\n",
        "· 39 функция должна вернуть 3, так как 3*9=27 => 2*7=14 => 1*4=4\n",
        "· 4 функция должна вернуть 0, так как число уже состоит из одной цифры\n",
        "· 999 функция должна вернуть 4, так как 9*9*9=729 => 7*2*9=126 => 1*2*6=12 =>\n",
        "1*2=2. Написать тесты для кода"
      ]
    },
    {
      "cell_type": "code",
      "execution_count": 25,
      "metadata": {
        "id": "BH1A_Mgi6i4G"
      },
      "outputs": [],
      "source": [
        "def magic(n):\n",
        "    count = 0\n",
        "    while n > 9:\n",
        "        i = 1\n",
        "        for number in str(n):\n",
        "            i *= int(number)\n",
        "        n = i\n",
        "        count += 1\n",
        "    return count\n",
        "\n",
        "assert magic(39) == 3\n",
        "assert magic(999) == 4\n",
        "assert magic(9) == 0"
      ]
    },
    {
      "cell_type": "markdown",
      "metadata": {
        "id": "0nS-kIa8g8vd"
      },
      "source": [
        "# Задача 5\n",
        "Написать функцию, которая принимает два целочисленных вектора одинаковой длины и\n",
        "возвращает среднеквадратическое отклонение двух векторов. Написать тесты для кода"
      ]
    },
    {
      "cell_type": "code",
      "execution_count": 35,
      "metadata": {
        "id": "8iphx4LM6xbx"
      },
      "outputs": [],
      "source": [
        "def mse(pred, true):\n",
        "    for i in range(len(pred)):\n",
        "        squaredDifferences = [(pred[i] - true[i])  **  2]\n",
        "    return sum(squaredDifferences) / len(squaredDifferences)\n",
        "\n",
        "\n",
        "assert mse([1, 2, 3], [1, 2, 3]) == 0\n",
        "assert mse([1, 2, 3], [4, 5, 7]) == 16\n",
        "assert mse([1, 2, 3], [5, 5, 5]) == 4"
      ]
    },
    {
      "cell_type": "markdown",
      "metadata": {
        "id": "vpIPKL439zkw"
      },
      "source": [
        "# Задача 6\n",
        "Написать функцию, принимающая целое положительное число. Функция должна вернуть\n",
        "строку вида “(n1**p1)(n2**p2)…(nk**pk)” представляющая разложение числа на простые\n",
        "множители (если pi == 1, то выводить только ni).\n",
        "Например, для числа 86240 функция должна вернуть “(2**5)(5)(7**2)(11)”. Написать тесты для кода"
      ]
    },
    {
      "cell_type": "code",
      "execution_count": null,
      "metadata": {
        "id": "pFebmcZk94Jw"
      },
      "outputs": [],
      "source": []
    },
    {
      "cell_type": "markdown",
      "metadata": {
        "id": "ps2s0BudX7A2"
      },
      "source": [
        "# Задача 7\n",
        "Написать функцию, принимающая целое число n, задающее количество кубиков. Функция\n",
        "должна определить, можно ли из данного кол-ва кубиков построить пирамиду, то есть\n",
        "можно ли представить число n как 1^2+2^2+3^2+…+k^2. Если можно, то функция должна\n",
        "вернуть k, иначе строку “It is impossible”. Написать тесты для кода"
      ]
    },
    {
      "cell_type": "code",
      "execution_count": 44,
      "metadata": {
        "id": "3YPjEXxhX_YT"
      },
      "outputs": [],
      "source": [
        "def pyramid(number):\n",
        "    num = 1\n",
        "    while number > 0:\n",
        "        number -= num * num\n",
        "        if number > 0:\n",
        "            num += 1    \n",
        "    if number == 0:\n",
        "        return num\n",
        "    return \"It is impossible\"\n",
        "\n",
        "assert pyramid(1) == 1\n",
        "assert pyramid(2) == \"It is impossible\"\n",
        "assert pyramid(3) == \"It is impossible\"\n",
        "assert pyramid(5) == 2"
      ]
    },
    {
      "cell_type": "markdown",
      "metadata": {
        "id": "KeKgmIdAQMEJ"
      },
      "source": [
        "# Задача 8\n",
        "Функция принимает на вход положительное число и определяет является ли оно сбалансированным, т.е. сумма цифр до средних равна сумме цифр после. Средними в случае нечетного числа цифр считать одну цифру, в случае четного - две средних. Написать тесты для кода"
      ]
    },
    {
      "cell_type": "code",
      "execution_count": 72,
      "metadata": {
        "id": "gMAAqtqlQrZt"
      },
      "outputs": [],
      "source": [
        "def balance(number):\n",
        "    n = str(number)\n",
        "    left = 0\n",
        "    right = 0\n",
        "\n",
        "    if len(n) % 2 != 0:\n",
        "        index = len(n) // 2\n",
        "    else:\n",
        "        index = len(n) // 2 - 1\n",
        "\n",
        "    for i in range(index):\n",
        "        left += int(n[i])\n",
        "        right += int(n[- (i + 1)])\n",
        "\n",
        "    return left == right\n",
        "\n",
        "assert balance(2442)\n",
        "assert balance(12321)\n",
        "assert not balance(234)"
      ]
    }
  ],
  "metadata": {
    "colab": {
      "provenance": []
    },
    "kernelspec": {
      "display_name": "Python 3",
      "name": "python3"
    },
    "language_info": {
      "codemirror_mode": {
        "name": "ipython",
        "version": 3
      },
      "file_extension": ".py",
      "mimetype": "text/x-python",
      "name": "python",
      "nbconvert_exporter": "python",
      "pygments_lexer": "ipython3",
      "version": "3.9.6"
    }
  },
  "nbformat": 4,
  "nbformat_minor": 0
}
